{
 "cells": [
  {
   "cell_type": "markdown",
   "metadata": {},
   "source": [
    "# XML example and exercise\n",
    "****\n",
    "+ study examples of accessing nodes in XML tree structure  \n",
    "+ work on exercise to be completed and submitted\n",
    "****\n",
    "+ reference: https://docs.python.org/2.7/library/xml.etree.elementtree.html\n",
    "+ data source: http://www.dbis.informatik.uni-goettingen.de/Mondial\n",
    "****"
   ]
  },
  {
   "cell_type": "code",
   "execution_count": 6,
   "metadata": {
    "collapsed": true
   },
   "outputs": [],
   "source": [
    "from xml.etree import ElementTree as ET"
   ]
  },
  {
   "cell_type": "markdown",
   "metadata": {},
   "source": [
    "## XML example\n",
    "\n",
    "+ for details about tree traversal and iterators, see https://docs.python.org/2.7/library/xml.etree.elementtree.html"
   ]
  },
  {
   "cell_type": "code",
   "execution_count": 5,
   "metadata": {
    "collapsed": false
   },
   "outputs": [],
   "source": [
    "document_tree = ET.parse( './data/mondial_database_less.xml' )"
   ]
  },
  {
   "cell_type": "code",
   "execution_count": 3,
   "metadata": {
    "collapsed": false,
    "scrolled": false
   },
   "outputs": [
    {
     "name": "stdout",
     "output_type": "stream",
     "text": [
      "Albania\n",
      "Greece\n",
      "Macedonia\n",
      "Serbia\n",
      "Montenegro\n",
      "Kosovo\n",
      "Andorra\n"
     ]
    }
   ],
   "source": [
    "# print names of all countries\n",
    "for child in document_tree.getroot():\n",
    "    print child.find('name').text"
   ]
  },
  {
   "cell_type": "code",
   "execution_count": 5,
   "metadata": {
    "collapsed": false
   },
   "outputs": [
    {
     "name": "stdout",
     "output_type": "stream",
     "text": [
      "* Albania: Tirana, Shkodër, Durrës, Vlorë, Elbasan, Korçë\n",
      "* Greece: Komotini, Kavala, Athina, Peiraias, Peristeri, Acharnes, Patra, Kozani, Kerkyra, Ioannina, Thessaloniki, Iraklio, Chania, Ermoupoli, Rhodes, Tripoli, Lamia, Chalkida, Larissa, Volos, Mytilini, Karyes\n",
      "* Macedonia: Skopje, Kumanovo\n",
      "* Serbia: Beograd, Novi Sad, Niš\n",
      "* Montenegro: Podgorica\n",
      "* Kosovo: Prishtine\n",
      "* Andorra: Andorra la Vella\n"
     ]
    }
   ],
   "source": [
    "# print names of all countries and their cities\n",
    "for element in document_tree.iterfind('country'):\n",
    "    print '* ' + element.find('name').text + ':',\n",
    "    capitals_string = ''\n",
    "    for subelement in element.getiterator('city'):\n",
    "        capitals_string += subelement.find('name').text + ', '\n",
    "    print capitals_string[:-2]"
   ]
  },
  {
   "cell_type": "markdown",
   "metadata": {},
   "source": [
    "****\n",
    "## XML exercise\n",
    "\n",
    "Using data in 'data/mondial_database.xml', the examples above, and refering to https://docs.python.org/2.7/library/xml.etree.elementtree.html, find\n",
    "\n",
    "1. 10 countries with the lowest infant mortality rates\n",
    "2. 10 cities with the largest population\n",
    "3. 10 ethnic groups with the largest overall populations (sum of best/latest estimates over all countries)\n",
    "4. name and country of a) longest river, b) largest lake and c) airport at highest elevation"
   ]
  },
  {
   "cell_type": "code",
   "execution_count": 7,
   "metadata": {
    "collapsed": false
   },
   "outputs": [],
   "source": [
    "document = ET.parse( './data/mondial_database.xml' )"
   ]
  },
  {
   "cell_type": "code",
   "execution_count": 19,
   "metadata": {
    "collapsed": false
   },
   "outputs": [
    {
     "name": "stdout",
     "output_type": "stream",
     "text": [
      "Monaco : 1.81\n",
      "Japan : 2.13\n",
      "Bermuda : 2.48\n",
      "Norway : 2.48\n",
      "Singapore : 2.53\n",
      "Sweden : 2.6\n",
      "Czech Republic : 2.63\n",
      "Hong Kong : 2.73\n",
      "Macao : 3.13\n"
     ]
    }
   ],
   "source": [
    "import operator\n",
    "infant_mortality_dict = {}\n",
    "\n",
    "for element in document.iterfind('country'):\n",
    "    for subelement in element.iterfind('infant_mortality'):\n",
    "        infant_mortality_dict[element.find('name').text] = float(subelement.text)\n",
    "        \n",
    "sorted_list = sorted(infant_mortality_dict.items(), key=operator.itemgetter(1))  \n",
    "sorted_list = sorted_list[0:9]\n",
    "for elem in sorted_list:\n",
    "    print( str(elem[0]) + \" : \"+ str(elem[1]) )"
   ]
  },
  {
   "cell_type": "code",
   "execution_count": 63,
   "metadata": {
    "collapsed": false
   },
   "outputs": [
    {
     "name": "stdout",
     "output_type": "stream",
     "text": [
      "Beograd : 1639121\n",
      "Montevideo : 1318755\n",
      "Sofia : 1270284\n",
      "Kathmandu : 1003285\n",
      "Zagreb : 686568\n",
      "Kingston : 662426\n",
      "Rīga : 658640\n",
      "Vilnius : 535631\n",
      "Dublin : 525383\n",
      "Tirana : 418495\n"
     ]
    }
   ],
   "source": [
    "population_dict = {}\n",
    "for element in document.iterfind('country/city'):\n",
    "#    print element.find('population').text\n",
    "    for population in element.iterfind('population'):\n",
    "        if population.attrib == {'measured': 'census', 'year': '2011'}:\n",
    "            population_dict[element.find('name').text] = int (population.text)\n",
    "            \n",
    "sorted_list = sorted(population_dict.items(), key=operator.itemgetter(1), reverse = True)  \n",
    "sorted_list = sorted_list[:10]\n",
    "\n",
    "for elem in sorted_list:\n",
    "    result = elem[0] + \" : \"+ str (elem[1])\n",
    "    print( result )\n",
    "    "
   ]
  },
  {
   "cell_type": "code",
   "execution_count": 15,
   "metadata": {
    "collapsed": false,
    "scrolled": false
   },
   "outputs": [
    {
     "name": "stdout",
     "output_type": "stream",
     "text": [
      "Indo-Aryan : 871815583.44\n",
      "European : 494939515.648\n",
      "African : 318359698.053\n",
      "Dravidian : 302713744.25\n",
      "Mestizo : 157855272.997\n",
      "Bengali : 146776916.72\n",
      "Russian : 136866550.638\n",
      "Japanese : 127289007.888\n",
      "Malay : 121993620.274\n"
     ]
    }
   ],
   "source": [
    "import operator\n",
    "ethnic_dict = {}\n",
    "for element in document.iterfind('country'):\n",
    "    population_list = []\n",
    "    \n",
    "    for population in element.iterfind('population'):\n",
    "        population_list.append(int(population.text))\n",
    "    \n",
    "    population_list = sorted(population_list, reverse = True)\n",
    "#    print (population_list[0])\n",
    "    \n",
    "    for ethnicity in element.iterfind('ethnicgroup'):\n",
    "        if ethnicity.text in ethnic_dict.keys():\n",
    "#            print(ethnicity.attrib['percentage'])\n",
    "            ethnic_dict[ethnicity.text] +=  float(ethnicity.attrib['percentage'])/100 * population_list[0]\n",
    "        else:\n",
    "#            print(ethnicity.attrib['percentage'])\n",
    "            ethnic_dict[ethnicity.text] = float (ethnicity.attrib['percentage'])/100 *  population_list[0]\n",
    "    \n",
    "#print (len(ethnic_dict))    \n",
    "sorted_list = sorted(ethnic_dict.items(), key=operator.itemgetter(1), reverse = True)  \n",
    "sorted_list = sorted_list[1:10]\n",
    "\n",
    "for elem in sorted_list:\n",
    "    result = elem[0] + \" : \"+ str (elem[1])\n",
    "    print( result )"
   ]
  },
  {
   "cell_type": "code",
   "execution_count": 37,
   "metadata": {
    "collapsed": false
   },
   "outputs": [
    {
     "name": "stdout",
     "output_type": "stream",
     "text": [
      "river\n"
     ]
    },
    {
     "ename": "AttributeError",
     "evalue": "'NoneType' object has no attribute 'text'",
     "output_type": "error",
     "traceback": [
      "\u001b[1;31m---------------------------------------------------------------------------\u001b[0m",
      "\u001b[1;31mAttributeError\u001b[0m                            Traceback (most recent call last)",
      "\u001b[1;32m<ipython-input-37-44a806410bd2>\u001b[0m in \u001b[0;36m<module>\u001b[1;34m()\u001b[0m\n\u001b[0;32m     10\u001b[0m             \u001b[1;32mprint\u001b[0m \u001b[1;33m(\u001b[0m\u001b[0mlocation\u001b[0m\u001b[1;33m.\u001b[0m\u001b[0mattrib\u001b[0m\u001b[1;33m[\u001b[0m\u001b[1;34m'watertype'\u001b[0m\u001b[1;33m]\u001b[0m\u001b[1;33m)\u001b[0m\u001b[1;33m\u001b[0m\u001b[0m\n\u001b[0;32m     11\u001b[0m             \u001b[0mkey\u001b[0m \u001b[1;33m=\u001b[0m \u001b[1;33m(\u001b[0m\u001b[0mcountry\u001b[0m\u001b[1;33m.\u001b[0m\u001b[0mfind\u001b[0m\u001b[1;33m(\u001b[0m\u001b[1;34m'name'\u001b[0m\u001b[1;33m)\u001b[0m\u001b[1;33m.\u001b[0m\u001b[0mtext\u001b[0m\u001b[1;33m,\u001b[0m \u001b[0mlocation\u001b[0m\u001b[1;33m.\u001b[0m\u001b[0mattrib\u001b[0m\u001b[1;33m[\u001b[0m\u001b[1;34m'watertype'\u001b[0m\u001b[1;33m]\u001b[0m\u001b[1;33m)\u001b[0m\u001b[1;33m\u001b[0m\u001b[0m\n\u001b[1;32m---> 12\u001b[1;33m             \u001b[0mvalue\u001b[0m \u001b[1;33m=\u001b[0m \u001b[1;33m(\u001b[0m\u001b[0mcountry\u001b[0m\u001b[1;33m.\u001b[0m\u001b[0mfind\u001b[0m\u001b[1;33m(\u001b[0m\u001b[1;34m'province/city/longitude'\u001b[0m\u001b[1;33m)\u001b[0m\u001b[1;33m.\u001b[0m\u001b[0mtext\u001b[0m\u001b[1;33m,\u001b[0m \u001b[0mcountry\u001b[0m\u001b[1;33m.\u001b[0m\u001b[0mfind\u001b[0m\u001b[1;33m(\u001b[0m\u001b[1;34m'province/city/lattitude'\u001b[0m\u001b[1;33m)\u001b[0m\u001b[1;33m.\u001b[0m\u001b[0mtext\u001b[0m\u001b[1;33m)\u001b[0m\u001b[1;33m\u001b[0m\u001b[0m\n\u001b[0m\u001b[0;32m     13\u001b[0m             \u001b[0mriver_dict\u001b[0m\u001b[1;33m[\u001b[0m\u001b[0mkey\u001b[0m\u001b[1;33m]\u001b[0m \u001b[1;33m=\u001b[0m \u001b[0mriver_dict\u001b[0m\u001b[1;33m[\u001b[0m\u001b[0mkey\u001b[0m\u001b[1;33m]\u001b[0m\u001b[1;33m.\u001b[0m\u001b[0mappend\u001b[0m\u001b[1;33m(\u001b[0m\u001b[0mvalue\u001b[0m\u001b[1;33m)\u001b[0m\u001b[1;33m\u001b[0m\u001b[0m\n\u001b[0;32m     14\u001b[0m \u001b[1;33m\u001b[0m\u001b[0m\n",
      "\u001b[1;31mAttributeError\u001b[0m: 'NoneType' object has no attribute 'text'"
     ]
    }
   ],
   "source": [
    "import operator \n",
    "river_dict = {}\n",
    "lake_dict = {}\n",
    "airport_dict = {}\n",
    "\n",
    "for country in document.iterfind('country'):\n",
    "    for location in country.iterfind('province/city/located_at'):\n",
    "        if (location.attrib['watertype'] == 'river'):\n",
    "            print (location.attrib['watertype'])\n",
    "            key = (country.find('name').text, location.attrib['watertype'])\n",
    "            value = (country.find('province/city/longitude').text, country.find('province/city/lattitude').text)\n",
    "            river_dict[key] = river_dict[key].append(value)\n",
    "\n",
    "print (len (river_dict))\n",
    "            \n",
    "                \n",
    "            \n",
    "    \n",
    "    "
   ]
  },
  {
   "cell_type": "code",
   "execution_count": null,
   "metadata": {
    "collapsed": true
   },
   "outputs": [],
   "source": []
  }
 ],
 "metadata": {
  "kernelspec": {
   "display_name": "Python 2",
   "language": "python",
   "name": "python2"
  },
  "language_info": {
   "codemirror_mode": {
    "name": "ipython",
    "version": 2
   },
   "file_extension": ".py",
   "mimetype": "text/x-python",
   "name": "python",
   "nbconvert_exporter": "python",
   "pygments_lexer": "ipython2",
   "version": "2.7.10"
  }
 },
 "nbformat": 4,
 "nbformat_minor": 0
}
