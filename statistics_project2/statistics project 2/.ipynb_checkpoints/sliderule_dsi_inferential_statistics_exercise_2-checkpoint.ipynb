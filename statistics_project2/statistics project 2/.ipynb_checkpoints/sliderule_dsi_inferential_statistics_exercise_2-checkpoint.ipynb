{
 "cells": [
  {
   "cell_type": "markdown",
   "metadata": {},
   "source": [
    "\n",
    "### Examining racial discrimination in the US job market\n",
    "\n",
    "#### Background\n",
    "Racial discrimination continues to be pervasive in cultures throughout the world. Researchers examined the level of racial discrimination in the United States labor market by randomly assigning identical résumés black-sounding or white-sounding names and observing the impact on requests for interviews from employers.\n",
    "\n",
    "#### Data\n",
    "In the dataset provided, each row represents a resume. The 'race' column has two values, 'b' and 'w', indicating black-sounding and white-sounding. The column 'call' has two values, 1 and 0, indicating whether the resume received a call from employers or not.\n",
    "\n",
    "Note that the 'b' and 'w' values in race are assigned randomly to the resumes.\n",
    "\n",
    "#### Exercise\n",
    "You will perform a statistical analysis to establish whether race has a significant impact on the rate of callbacks for resumes.\n",
    "\n",
    "Answer the following questions **in this notebook below and submit to your Github account**. \n",
    "\n",
    "   1. What test is appropriate for this problem? Does CLT apply?\n",
    "   2. What are the null and alternate hypotheses?\n",
    "   3. Compute margin of error, confidence interval, and p-value.\n",
    "   4. Discuss statistical significance.\n",
    "\n",
    "You can include written notes in notebook cells using Markdown: \n",
    "   - In the control panel at the top, choose Cell > Cell Type > Markdown\n",
    "   - Markdown syntax: http://nestacms.com/docs/creating-content/markdown-cheat-sheet\n",
    "\n",
    "\n",
    "#### Resources\n",
    "+ Experiment information and data source: http://www.povertyactionlab.org/evaluation/discrimination-job-market-united-states\n",
    "+ Scipy statistical methods: http://docs.scipy.org/doc/scipy/reference/stats.html \n",
    "+ Markdown syntax: http://nestacms.com/docs/creating-content/markdown-cheat-sheet\n",
    "\n",
    "****"
   ]
  },
  {
   "cell_type": "code",
   "execution_count": 33,
   "metadata": {
    "collapsed": true
   },
   "outputs": [],
   "source": [
    "import pandas as pd\n",
    "import numpy as np\n",
    "from scipy import stats\n",
    "import math"
   ]
  },
  {
   "cell_type": "code",
   "execution_count": 2,
   "metadata": {
    "collapsed": false
   },
   "outputs": [],
   "source": [
    "data = pd.io.stata.read_stata('data/us_job_market_discrimination.dta')"
   ]
  },
  {
   "cell_type": "code",
   "execution_count": 24,
   "metadata": {
    "collapsed": false
   },
   "outputs": [
    {
     "name": "stdout",
     "output_type": "stream",
     "text": [
      " Sample size of white population is 2435\n",
      " Sample size of black population is 2435\n",
      " \n",
      " Point estimate for white population is 0.0965092402464\n",
      " Success count for white population is 235.0\n",
      " Failure count for white population is 2200.0\n",
      " \n",
      " Point estimate for black population is 0.064476386037\n",
      " Success count for black population is 157.0\n",
      " Failure count for black population is 2278.0\n"
     ]
    }
   ],
   "source": [
    "# number of callbacks for balck-sounding names\n",
    "call_black = sum(data[data.race=='b'].call)\n",
    "call_white = sum(data[data.race=='w'].call)\n",
    "\n",
    "black_population = len (data[data.race =='b'])\n",
    "white_population = len (data[data.race == 'w'])\n",
    "\n",
    "print (\" Sample size of white population is \" + str (white_population))\n",
    "print (\" Sample size of black population is \" + str (black_population))\n",
    "\n",
    "print (\" \")\n",
    "pointEstimate_white = call_white/white_population\n",
    "pointEstimate_black = call_black/black_population\n",
    "\n",
    "print (\" Point estimate for white population is \" + str (pointEstimate_white))\n",
    "print (\" Success count for white population is \" + str (pointEstimate_white * white_population))\n",
    "print (\" Failure count for white population is \" + str ((1-pointEstimate_white) * white_population))\n",
    "\n",
    "print (\" \")\n",
    "\n",
    "print (\" Point estimate for black population is \" + str (pointEstimate_black))\n",
    "print (\" Success count for black population is \" + str (pointEstimate_black * black_population))\n",
    "print (\" Failure count for black population is \" + str ((1-pointEstimate_black) * black_population))\n"
   ]
  },
  {
   "cell_type": "markdown",
   "metadata": {
    "collapsed": true
   },
   "source": []
  },
  {
   "cell_type": "code",
   "execution_count": 29,
   "metadata": {
    "collapsed": false
   },
   "outputs": [],
   "source": [
    "# Ans 1) \n",
    "\n",
    "# The sample can be divided into two groups white and black.\n",
    "# The values are assigned through a  random distrbution. \n",
    "# Sample size of each group is 2435 which is less than 10% of the population for the group. \n",
    "# The two groups are independent of each other. \n",
    "# Both the groups satisfy the success/failure conditions \n",
    "\n",
    "# All the conditions necessary for applying central limit theorem are applicable here and thus central limit\n",
    "# theorem should be applied in this case with z-test\n"
   ]
  },
  {
   "cell_type": "code",
   "execution_count": 30,
   "metadata": {
    "collapsed": true
   },
   "outputs": [],
   "source": [
    "# Ans 2)\n",
    "\n",
    "# null hypothesis is : pointEstimate(white) - pointestimate(black) = 0 \n",
    "# alternate hypothesis is : pointEstimate(white) - pointEstimate(black) not equals zero "
   ]
  },
  {
   "cell_type": "code",
   "execution_count": 41,
   "metadata": {
    "collapsed": false
   },
   "outputs": [
    {
     "name": "stdout",
     "output_type": "stream",
     "text": [
      " The standard error is 0.00779689403617\n",
      " The confidence interval for the population lies from 0.0152819123109 to -0.0152819123109\n",
      " p value for the distribution is 0.999980080566\n"
     ]
    }
   ],
   "source": [
    "pointEstimate_pool = (call_white + call_black)/ (white_population + black_population)\n",
    "\n",
    "numerator = pointEstimate_pool * (1-pointEstimate_pool)\n",
    "std_err = math.sqrt( numerator/white_population + numerator/black_population)\n",
    "print(\" The standard error is \" + str( std_err ))\n",
    "\n",
    "ci_upper = 0+1.96 * std_err\n",
    "ci_lower = 0-1.96 * std_err\n",
    "print (\" The confidence interval for the population lies from \"+ str(ci_upper)+ \" to \"+ str(ci_lower))\n",
    "\n",
    "pointEstimate = pointEstimate_white - pointEstimate_black\n",
    "zscore = (pointEstimate - 0)/std_err\n",
    "pvalue = stats.norm.cdf(zscore)\n",
    "print (\" p value for the distribution is \" + str (pvalue))"
   ]
  },
  {
   "cell_type": "code",
   "execution_count": 39,
   "metadata": {
    "collapsed": true
   },
   "outputs": [],
   "source": [
    "# Ans 3)\n",
    "# The standard error is 0.00779689403617\n",
    "# The confidence interval for the population lies from 0.0152819123109 to -0.0152819123109\n",
    "#  p value for the distribution is 0.999980080566"
   ]
  },
  {
   "cell_type": "code",
   "execution_count": null,
   "metadata": {
    "collapsed": true
   },
   "outputs": [],
   "source": [
    "#Ans 4)\n",
    "# Since the pvalue is very high null hypothesis can be rejected and \n",
    "# we can say with 95% confidence that in the US job market there is a racial discrimination"
   ]
  }
 ],
 "metadata": {
  "kernelspec": {
   "display_name": "Python 2",
   "language": "python",
   "name": "python2"
  },
  "language_info": {
   "codemirror_mode": {
    "name": "ipython",
    "version": 2
   },
   "file_extension": ".py",
   "mimetype": "text/x-python",
   "name": "python",
   "nbconvert_exporter": "python",
   "pygments_lexer": "ipython2",
   "version": "2.7.10"
  }
 },
 "nbformat": 4,
 "nbformat_minor": 0
}
