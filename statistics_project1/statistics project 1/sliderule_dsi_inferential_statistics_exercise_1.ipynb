{
 "cells": [
  {
   "cell_type": "markdown",
   "metadata": {},
   "source": [
    "## What is the true normal human body temperature? \n",
    "\n",
    "#### Background\n",
    "\n",
    "The mean normal body temperature was held to be 37$^{\\circ}$C or 98.6$^{\\circ}$F for more than 120 years since it was first conceptualized and reported by Carl Wunderlich in a famous 1868 book. In 1992, this value was revised to 36.8$^{\\circ}$C or 98.2$^{\\circ}$F. \n",
    "\n",
    "#### Exercise\n",
    "In this exercise, you will analyze a dataset of human body temperatures and employ the concepts of hypothesis testing, confidence intervals, and statistical significance.\n",
    "\n",
    "Answer the following questions **in this notebook below and submit to your Github account**. \n",
    "\n",
    "1.  Is the distribution of body temperatures normal? \n",
    "    - Remember that this is a condition for the CLT, and hence the statistical tests we are using, to apply. \n",
    "2.  Is the true population mean really 98.6 degrees F?\n",
    "    - Bring out the one sample hypothesis test! In this situation, is it approriate to apply a z-test or a t-test? How will the result be different?\n",
    "3.  At what temperature should we consider someone's temperature to be \"abnormal\"?\n",
    "    - Start by computing the margin of error and confidence interval.\n",
    "4.  Is there a significant difference between males and females in normal temperature?\n",
    "    - Set up and solve for a two sample hypothesis testing.\n",
    "\n",
    "You can include written notes in notebook cells using Markdown: \n",
    "   - In the control panel at the top, choose Cell > Cell Type > Markdown\n",
    "   - Markdown syntax: http://nestacms.com/docs/creating-content/markdown-cheat-sheet\n",
    "\n",
    "#### Resources\n",
    "\n",
    "+ Information and data sources: http://www.amstat.org/publications/jse/datasets/normtemp.txt, http://www.amstat.org/publications/jse/jse_data_archive.htm\n",
    "+ Markdown syntax: http://nestacms.com/docs/creating-content/markdown-cheat-sheet\n",
    "\n",
    "****"
   ]
  },
  {
   "cell_type": "code",
   "execution_count": 2,
   "metadata": {
    "collapsed": true
   },
   "outputs": [],
   "source": [
    "%matplotlib inline\n",
    "from __future__ import division\n",
    "import scipy.stats as st\n",
    "import pandas as pd\n",
    "import numpy as np\n",
    "import math"
   ]
  },
  {
   "cell_type": "code",
   "execution_count": 3,
   "metadata": {
    "collapsed": false
   },
   "outputs": [],
   "source": [
    "df = pd.read_csv('data/human_body_temperature.csv')"
   ]
  },
  {
   "cell_type": "code",
   "execution_count": 4,
   "metadata": {
    "collapsed": false
   },
   "outputs": [
    {
     "name": "stdout",
     "output_type": "stream",
     "text": [
      " % of data outside the 95% CI on one side  is 2.30769230769%\n",
      " % of data outside the 95% CI on the other side is 3.07692307692%\n"
     ]
    },
    {
     "data": {
      "image/png": "[encoded data removed]",
      "text/plain": [
       "<matplotlib.figure.Figure at 0x7f9b5423eb50>"
      ]
     },
     "metadata": {},
     "output_type": "display_data"
    }
   ],
   "source": [
    "plot = df['temperature'].hist()\n",
    "plot.set_xlabel(\" temperature\")\n",
    "plot.set_ylabel(\" no. of people \")\n",
    "\n",
    "mean = sum (df['temperature'])/ len(df)\n",
    "std_dev = np.std(df['temperature'])\n",
    "\n",
    "temp1 = df[ df.temperature > (mean + 2 * std_dev)]\n",
    "temp2 = df[ df.temperature < (mean - 2 * std_dev)]\n",
    "\n",
    "per_temp1_out_95CI = len(temp1)/ len(df) *100\n",
    "per_temp2_out_95CI = len(temp2)/ len(df) *100\n",
    "\n",
    "print (\" % of data outside the 95% CI on one side  is \" + str (per_temp1_out_95CI)+ \"%\")\n",
    "print (\" % of data outside the 95% CI on the other side is \" + str (per_temp2_out_95CI) + \"%\")\n",
    "\n",
    "# Thus both the graphical analysis and the  numerical analysis indicate that the distribution \n",
    "# is approximately a normal distribution "
   ]
  },
  {
   "cell_type": "code",
   "execution_count": 5,
   "metadata": {
    "collapsed": false
   },
   "outputs": [
    {
     "name": "stdout",
     "output_type": "stream",
     "text": [
      " p - value of the hypothesis is 99.9999999787%\n"
     ]
    }
   ],
   "source": [
    "# Assume the null hypthesis to be 98.6 degree F. Since the sample size > 30, hence z-test may be applied. \n",
    "std_err = std_dev/ math.sqrt(len(df))\n",
    "zscore = (98.6 - 98.2)/std_err\n",
    "pvalue = st.norm.cdf(zscore)\n",
    "print (\" p - value of the hypothesis is \" + str( pvalue * 100)+ \"%\")\n",
    "\n",
    "# Since the p- value is greater than 5%, hence the null hypothesis can not be rejected.  "
   ]
  },
  {
   "cell_type": "code",
   "execution_count": 6,
   "metadata": {
    "collapsed": false
   },
   "outputs": [
    {
     "name": "stdout",
     "output_type": "stream",
     "text": [
      " temeperature is abnormal if it is less than 98.0744490352 or is greater than 98.3255509648\n"
     ]
    }
   ],
   "source": [
    "upper_limit_CI = 98.2 + 1.96 * std_err\n",
    "lower_limit_CI = 98.2 - 1.96 * std_err\n",
    "print (\" temeperature is abnormal if it is less than \" + str (lower_limit_CI)\n",
    "      + \" or is greater than \" + str(upper_limit_CI))"
   ]
  },
  {
   "cell_type": "code",
   "execution_count": 15,
   "metadata": {
    "collapsed": false
   },
   "outputs": [
    {
     "name": "stdout",
     "output_type": "stream",
     "text": [
      "98.1046153846\n",
      "98.3938461538\n",
      " pvalue for the sample is 0.0106332259151\n"
     ]
    }
   ],
   "source": [
    "# Hypothesis is mean(male_df) - mean(female_df) is zero\n",
    "male_df = df[df.gender == \"M\"]\n",
    "female_df = df [df.gender == \"F\"]\n",
    "\n",
    "male_df = male_df['temperature']\n",
    "female_df = female_df['temperature']\n",
    "\n",
    "print (np.mean(male_df))\n",
    "print (np.mean(female_df))\n",
    "\n",
    "std_error_male = np.std(male_df)/ math.sqrt(len(male_df))\n",
    "std_error_female = np.std(female_df)/ math.sqrt(len(female_df))\n",
    "\n",
    "std_error = math.sqrt(std_error_male * std_error_male + std_error_female * std_error_female)\n",
    "zscore = ( np.mean(male_df) - np.mean(female_df) )/ std_error\n",
    "pvalue = st.norm.cdf(zscore)\n",
    "\n",
    "print (\" pvalue for the sample is \" + str(pvalue))\n",
    "\n",
    "# Since the pvalue is less than 5 percent hence the hypothesis is rejected\n",
    "# and thus claims that male and females have different body temperatures. "
   ]
  },
  {
   "cell_type": "code",
   "execution_count": null,
   "metadata": {
    "collapsed": true
   },
   "outputs": [],
   "source": []
  }
 ],
 "metadata": {
  "kernelspec": {
   "display_name": "Python 2",
   "language": "python",
   "name": "python2"
  },
  "language_info": {
   "codemirror_mode": {
    "name": "ipython",
    "version": 2
   },
   "file_extension": ".py",
   "mimetype": "text/x-python",
   "name": "python",
   "nbconvert_exporter": "python",
   "pygments_lexer": "ipython2",
   "version": "2.7.10"
  }
 },
 "nbformat": 4,
 "nbformat_minor": 0
}
