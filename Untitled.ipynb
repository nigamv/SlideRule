{
 "cells": [
  {
   "cell_type": "code",
   "execution_count": 1,
   "metadata": {
    "collapsed": true
   },
   "outputs": [],
   "source": [
    "import pandas as pd\n",
    "import numpy as np\n",
    "import matplotlib.pyplot as plt\n",
    "import scipy.stats as st\n",
    "import statsmodels.api as sm\n",
    "import bokeh.plotting as bkp\n",
    "from mpl_toolkits.axes_grid1 import make_axes_locatable\n",
    "%matplotlib inline"
   ]
  },
  {
   "cell_type": "code",
   "execution_count": 5,
   "metadata": {
    "collapsed": false
   },
   "outputs": [
    {
     "data": {
      "text/html": [
       "<div>\n",
       "<table border=\"1\" class=\"dataframe\">\n",
       "  <thead>\n",
       "    <tr style=\"text-align: right;\">\n",
       "      <th></th>\n",
       "      <th>id</th>\n",
       "      <th>question</th>\n",
       "      <th>correctAnswer</th>\n",
       "      <th>answerA</th>\n",
       "      <th>answerB</th>\n",
       "      <th>answerC</th>\n",
       "      <th>answerD</th>\n",
       "    </tr>\n",
       "  </thead>\n",
       "  <tbody>\n",
       "    <tr>\n",
       "      <th>0</th>\n",
       "      <td>100001</td>\n",
       "      <td>When athletes begin to exercise, their heart r...</td>\n",
       "      <td>C</td>\n",
       "      <td>at the tissue level</td>\n",
       "      <td>at the organ level</td>\n",
       "      <td>at the system level</td>\n",
       "      <td>at the cellular level</td>\n",
       "    </tr>\n",
       "    <tr>\n",
       "      <th>1</th>\n",
       "      <td>100002</td>\n",
       "      <td>Which example describes a learned behavior in ...</td>\n",
       "      <td>C</td>\n",
       "      <td>smelling the air for odors</td>\n",
       "      <td>barking when disturbed</td>\n",
       "      <td>sitting on command</td>\n",
       "      <td>digging in soil</td>\n",
       "    </tr>\n",
       "    <tr>\n",
       "      <th>2</th>\n",
       "      <td>100003</td>\n",
       "      <td>When two nuclei are combined into one nucleus,...</td>\n",
       "      <td>D</td>\n",
       "      <td>conversion</td>\n",
       "      <td>reaction</td>\n",
       "      <td>fission</td>\n",
       "      <td>fusion</td>\n",
       "    </tr>\n",
       "    <tr>\n",
       "      <th>3</th>\n",
       "      <td>100004</td>\n",
       "      <td>Which is a distinction between an epidemic and...</td>\n",
       "      <td>B</td>\n",
       "      <td>the symptoms of the disease</td>\n",
       "      <td>the geographical area affected</td>\n",
       "      <td>the species of organisms infected</td>\n",
       "      <td>the season in which the disease spreads</td>\n",
       "    </tr>\n",
       "    <tr>\n",
       "      <th>4</th>\n",
       "      <td>100005</td>\n",
       "      <td>In which way is the orbit of a comet different...</td>\n",
       "      <td>B</td>\n",
       "      <td>The orbit of Earth is less circular than the o...</td>\n",
       "      <td>The orbit of a comet is more elliptical than t...</td>\n",
       "      <td>The orbital period of Earth is much longer tha...</td>\n",
       "      <td>The orbital period of a comet is more predicta...</td>\n",
       "    </tr>\n",
       "  </tbody>\n",
       "</table>\n",
       "</div>"
      ],
      "text/plain": [
       "       id                                           question correctAnswer  \\\n",
       "0  100001  When athletes begin to exercise, their heart r...             C   \n",
       "1  100002  Which example describes a learned behavior in ...             C   \n",
       "2  100003  When two nuclei are combined into one nucleus,...             D   \n",
       "3  100004  Which is a distinction between an epidemic and...             B   \n",
       "4  100005  In which way is the orbit of a comet different...             B   \n",
       "\n",
       "                                             answerA  \\\n",
       "0                                at the tissue level   \n",
       "1                         smelling the air for odors   \n",
       "2                                         conversion   \n",
       "3                        the symptoms of the disease   \n",
       "4  The orbit of Earth is less circular than the o...   \n",
       "\n",
       "                                             answerB  \\\n",
       "0                                 at the organ level   \n",
       "1                             barking when disturbed   \n",
       "2                                           reaction   \n",
       "3                     the geographical area affected   \n",
       "4  The orbit of a comet is more elliptical than t...   \n",
       "\n",
       "                                             answerC  \\\n",
       "0                                at the system level   \n",
       "1                                 sitting on command   \n",
       "2                                            fission   \n",
       "3                  the species of organisms infected   \n",
       "4  The orbital period of Earth is much longer tha...   \n",
       "\n",
       "                                             answerD  \n",
       "0                              at the cellular level  \n",
       "1                                    digging in soil  \n",
       "2                                             fusion  \n",
       "3            the season in which the disease spreads  \n",
       "4  The orbital period of a comet is more predicta...  "
      ]
     },
     "execution_count": 5,
     "metadata": {},
     "output_type": "execute_result"
    }
   ],
   "source": [
    "data_frame = pd.read_csv('training_set.tsv', sep = \"\\t\")\n",
    "data_frame.head()"
   ]
  },
  {
   "cell_type": "code",
   "execution_count": null,
   "metadata": {
    "collapsed": true
   },
   "outputs": [],
   "source": []
  }
 ],
 "metadata": {
  "kernelspec": {
   "display_name": "Python 2",
   "language": "python",
   "name": "python2"
  },
  "language_info": {
   "codemirror_mode": {
    "name": "ipython",
    "version": 2
   },
   "file_extension": ".py",
   "mimetype": "text/x-python",
   "name": "python",
   "nbconvert_exporter": "python",
   "pygments_lexer": "ipython2",
   "version": "2.7.10"
  }
 },
 "nbformat": 4,
 "nbformat_minor": 0
}
